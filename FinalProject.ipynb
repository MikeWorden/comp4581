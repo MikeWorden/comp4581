{
 "cells": [
  {
   "cell_type": "markdown",
   "id": "1fb358bd-6a28-4f86-9a36-3e171ef4efdd",
   "metadata": {},
   "source": [
    "<h1>Estimation Techniques</h1>"
   ]
  },
  {
   "cell_type": "markdown",
   "id": "d43de50d-2ab7-4248-b381-e2b96339831e",
   "metadata": {},
   "source": [
    "# Introduction to Bayesian Thinking\n",
    "Bayesian statistics provide a foundational and intuitive approach to probabilistic reasoning, incorporating prior beliefs and observed evidence to update probability distributions. The key principles include:\n",
    "- __Bayes' Theorem__ - The probability of event A, given that event B has subsequently occurred, is given as\n",
    "¬ \n",
    "- __Posterior Distribution:__ Bayesian inference relies on updating beliefs through the posterior distribution, which combines the likelihood of the observed data with the prior distribution. \n",
    "- __Posterior Probability:__  A specific probability derived from the posterior distribution, referring to the probability of a particular event given the observed data.\n",
    "- __Credible Intervals:__ Unlike frequentist confidence intervals, Bayesian credible intervals offer a probability-based interpretation of parameter uncertainty.\n",
    "\n",
    "While Bayesian methods provide a probabilistic framework for inference, that is easily understood.  Consider the following simple example in python (Vishwesh, 2023):\n",
    "\n"
   ]
  },
  {
   "cell_type": "code",
   "execution_count": 6,
   "id": "789436fd-e22d-408b-bbb2-997dd5cae75c",
   "metadata": {},
   "outputs": [
    {
     "name": "stdout",
     "output_type": "stream",
     "text": [
      "Coefficients:  [0.4        0.79999999]\n",
      "Intercept:  0.2000000620824407\n",
      "Predictions:  [10.99999993 12.9999999  14.99999988]\n"
     ]
    }
   ],
   "source": [
    "from sklearn.linear_model import BayesianRidge\n",
    "import numpy as np\n",
    "\n",
    "# create example data\n",
    "X = np.array([[0, 1], [1, 3], [2, 5], [3, 7], [4, 9]])\n",
    "y = np.array([1, 3, 5, 7, 9])\n",
    "\n",
    "# create Bayesian Ridge regression model\n",
    "model = BayesianRidge()\n",
    "\n",
    "# fit the model to the data\n",
    "model.fit(X, y)\n",
    "\n",
    "# make predictions on new data\n",
    "new_X = np.array([[5, 11], [6, 13], [7, 15]])\n",
    "y_pred = model.predict(new_X)\n",
    "\n",
    "print(\"Coefficients: \", model.coef_)\n",
    "print(\"Intercept: \", model.intercept_)\n",
    "print(\"Predictions: \", y_pred)"
   ]
  },
  {
   "cell_type": "markdown",
   "id": "fbda7353-5f9b-4adc-a1ca-fa1a0baa17c4",
   "metadata": {},
   "source": [
    "However, Bayesian methods require subjective assumptions about prior distributions and computationally expensive integration techniques. Conformal prediction (CP) offers an alternative that constructs prediction sets with guaranteed validity without strong distributional assumptions."
   ]
  },
  {
   "cell_type": "code",
   "execution_count": null,
   "id": "190ceb71-ded4-4df6-a9ae-dde86022fa8d",
   "metadata": {},
   "outputs": [],
   "source": []
  }
 ],
 "metadata": {
  "kernelspec": {
   "display_name": "Python 3 (ipykernel)",
   "language": "python",
   "name": "python3"
  },
  "language_info": {
   "codemirror_mode": {
    "name": "ipython",
    "version": 3
   },
   "file_extension": ".py",
   "mimetype": "text/x-python",
   "name": "python",
   "nbconvert_exporter": "python",
   "pygments_lexer": "ipython3",
   "version": "3.11.11"
  }
 },
 "nbformat": 4,
 "nbformat_minor": 5
}
